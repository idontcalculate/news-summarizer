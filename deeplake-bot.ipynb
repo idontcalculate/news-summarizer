{
 "cells": [
  {
   "cell_type": "code",
   "execution_count": 3,
   "metadata": {},
   "outputs": [],
   "source": [
    "import os \n",
    "import json \n",
    "from dotenv import load_dotenv\n",
    "load_dotenv()\n",
    "\n",
    "OPENAI_API_KEY =os.getenv(\"OPENAI_API_KEY\")\n",
    "ACTIVELOOP_TOKEN=os.getenv(\"ACTIVELOOP_TOKEN\")"
   ]
  },
  {
   "cell_type": "code",
   "execution_count": null,
   "metadata": {},
   "outputs": [],
   "source": [
    "!pip3 install langchain deeplake pypdf openai tiktoken\n"
   ]
  },
  {
   "cell_type": "code",
   "execution_count": 5,
   "metadata": {},
   "outputs": [],
   "source": [
    "from langchain.embeddings.openai import OpenAIEmbeddings\n",
    "from langchain.vectorstores import DeepLake\n",
    "from langchain.text_splitter import CharacterTextSplitter\n",
    "from langchain import OpenAI \n",
    "from langchain.chains import RetrievalQA\n",
    "from langchain.llms import OpenAIChat\n",
    "from langchain.document_loaders import UnstructuredURLLoader\n"
   ]
  },
  {
   "cell_type": "code",
   "execution_count": 6,
   "metadata": {},
   "outputs": [],
   "source": [
    "# financial reports of amamzon, but can be replaced by any URLs of pdfs\n",
    "urls = ['https://beebom.com/what-is-nft-explained/',\n",
    "        'https://beebom.com/how-delete-spotify-account/',\n",
    "        'https://beebom.com/how-download-gif-twitter/',\n",
    "        'https://beebom.com/how-use-chatgpt-linux-terminal/',\n",
    "        'https://beebom.com/how-delete-spotify-account/',\n",
    "        'https://beebom.com/how-save-instagram-story-with-music/',\n",
    "        'https://beebom.com/how-install-pip-windows/',\n",
    "        'https://beebom.com/how-check-disk-usage-linux/']"
   ]
  },
  {
   "cell_type": "code",
   "execution_count": 7,
   "metadata": {},
   "outputs": [],
   "source": [
    "loader = UnstructuredURLLoader(urls=urls)\n",
    "data = loader.load()"
   ]
  },
  {
   "cell_type": "code",
   "execution_count": 8,
   "metadata": {},
   "outputs": [
    {
     "data": {
      "text/plain": [
       "Document(page_content='Home  Internet  NFTs Explained: What is an NFT and What is Its Use\\n\\nNFTs Explained: What is an NFT and What is Its Use\\n\\nArjun Sha\\n\\nLast Updated: December 6, 2021 4:42 pm\\n\\nAfter Bitcoin and Blockchain, NFT is another word to have entered our lexicon. The buzzword is everywhere and people are wondering what is NFT and what is its use? Well, there is not really a one-line explainer. And that’s why we have brought a comprehensive explainer on NFT, what is its use in digital art, and more. So without wasting any time, let’s go ahead and learn about NFTs (Non-fungible Token) in complete detail.\\n\\nWhat is NFT: A Definitive Explainer (2021)\\n\\nHere, we have mentioned all the questions that people have in their minds regarding NFT. You can click on the table to find all the sections that we have covered in this article and click on the link to move to the corresponding section.\\n\\nTable of Contents\\n\\nNFTs Explained: What is NFT in Crypto?\\n\\nWhat is the Use of NFT in Digital Art?', metadata={'source': 'https://beebom.com/what-is-nft-explained/'})"
      ]
     },
     "execution_count": 8,
     "metadata": {},
     "output_type": "execute_result"
    }
   ],
   "source": [
    "text_splitter = CharacterTextSplitter(chunk_size=1000, chunk_overlap=0)\n",
    "texts = text_splitter.split_documents(data)\n",
    "\n",
    "texts[0]"
   ]
  },
  {
   "cell_type": "code",
   "execution_count": 9,
   "metadata": {},
   "outputs": [
    {
     "name": "stderr",
     "output_type": "stream",
     "text": [
      "/home/cloudsuperadmin/.local/lib/python3.9/site-packages/deeplake/util/check_latest_version.py:32: UserWarning: A newer version of deeplake (3.4.0) is available. It's recommended that you update to the latest version using `pip install -U deeplake`.\n",
      "  warnings.warn(\n"
     ]
    },
    {
     "name": "stdout",
     "output_type": "stream",
     "text": [
      "https:/app.activeloop.ai/pravosnazna/dataset loaded successfully.\n",
      "\n"
     ]
    },
    {
     "name": "stderr",
     "output_type": "stream",
     "text": [
      "Deep Lake Dataset in https:/app.activeloop.ai/pravosnazna/dataset already exists, loading from the storage\n"
     ]
    },
    {
     "name": "stdout",
     "output_type": "stream",
     "text": [
      "Dataset(path='https:/app.activeloop.ai/pravosnazna/dataset', tensors=['embedding', 'ids', 'metadata', 'text'])\n",
      "\n",
      "  tensor     htype      shape      dtype  compression\n",
      "  -------   -------    -------    -------  ------- \n",
      " embedding  generic  (285, 1536)  float32   None   \n",
      "    ids      text     (285, 1)      str     None   \n",
      " metadata    json     (285, 1)      str     None   \n",
      "   text      text     (285, 1)      str     None   \n"
     ]
    },
    {
     "name": "stderr",
     "output_type": "stream",
     "text": [
      "Evaluating ingest: 100%|██████████| 1/1 [00:05<00:00\n"
     ]
    },
    {
     "name": "stdout",
     "output_type": "stream",
     "text": [
      "Dataset(path='https:/app.activeloop.ai/pravosnazna/dataset', tensors=['embedding', 'ids', 'metadata', 'text'])\n",
      "\n",
      "  tensor     htype      shape      dtype  compression\n",
      "  -------   -------    -------    -------  ------- \n",
      " embedding  generic  (424, 1536)  float32   None   \n",
      "    ids      text     (424, 1)      str     None   \n",
      " metadata    json     (424, 1)      str     None   \n",
      "   text      text     (424, 1)      str     None   \n"
     ]
    },
    {
     "name": "stderr",
     "output_type": "stream",
     "text": []
    },
    {
     "data": {
      "text/plain": [
       "['f8f1d7dc-eb2b-11ed-8c9d-c70441d294b9',\n",
       " 'f8f1d7dd-eb2b-11ed-8c9d-c70441d294b9',\n",
       " 'f8f1d7de-eb2b-11ed-8c9d-c70441d294b9',\n",
       " 'f8f1d7df-eb2b-11ed-8c9d-c70441d294b9',\n",
       " 'f8f1d7e0-eb2b-11ed-8c9d-c70441d294b9',\n",
       " 'f8f1d7e1-eb2b-11ed-8c9d-c70441d294b9',\n",
       " 'f8f1d7e2-eb2b-11ed-8c9d-c70441d294b9',\n",
       " 'f8f1d7e3-eb2b-11ed-8c9d-c70441d294b9',\n",
       " 'f8f1d7e4-eb2b-11ed-8c9d-c70441d294b9',\n",
       " 'f8f1d7e5-eb2b-11ed-8c9d-c70441d294b9',\n",
       " 'f8f1d7e6-eb2b-11ed-8c9d-c70441d294b9',\n",
       " 'f8f1d7e7-eb2b-11ed-8c9d-c70441d294b9',\n",
       " 'f8f1d7e8-eb2b-11ed-8c9d-c70441d294b9',\n",
       " 'f8f1d7e9-eb2b-11ed-8c9d-c70441d294b9',\n",
       " 'f8f1d7ea-eb2b-11ed-8c9d-c70441d294b9',\n",
       " 'f8f1d7eb-eb2b-11ed-8c9d-c70441d294b9',\n",
       " 'f8f1d7ec-eb2b-11ed-8c9d-c70441d294b9',\n",
       " 'f8f1d7ed-eb2b-11ed-8c9d-c70441d294b9',\n",
       " 'f8f1d7ee-eb2b-11ed-8c9d-c70441d294b9',\n",
       " 'f8f1d7ef-eb2b-11ed-8c9d-c70441d294b9',\n",
       " 'f8f1d7f0-eb2b-11ed-8c9d-c70441d294b9',\n",
       " 'f8f1d7f1-eb2b-11ed-8c9d-c70441d294b9',\n",
       " 'f8f1d7f2-eb2b-11ed-8c9d-c70441d294b9',\n",
       " 'f8f1d7f3-eb2b-11ed-8c9d-c70441d294b9',\n",
       " 'f8f1d7f4-eb2b-11ed-8c9d-c70441d294b9',\n",
       " 'f8f1d7f5-eb2b-11ed-8c9d-c70441d294b9',\n",
       " 'f8f1d7f6-eb2b-11ed-8c9d-c70441d294b9',\n",
       " 'f8f1d7f7-eb2b-11ed-8c9d-c70441d294b9',\n",
       " 'f8f1d7f8-eb2b-11ed-8c9d-c70441d294b9',\n",
       " 'f8f1d7f9-eb2b-11ed-8c9d-c70441d294b9',\n",
       " 'f8f1d7fa-eb2b-11ed-8c9d-c70441d294b9',\n",
       " 'f8f1d7fb-eb2b-11ed-8c9d-c70441d294b9',\n",
       " 'f8f1d7fc-eb2b-11ed-8c9d-c70441d294b9',\n",
       " 'f8f1d7fd-eb2b-11ed-8c9d-c70441d294b9',\n",
       " 'f8f1d7fe-eb2b-11ed-8c9d-c70441d294b9',\n",
       " 'f8f1d7ff-eb2b-11ed-8c9d-c70441d294b9',\n",
       " 'f8f1d800-eb2b-11ed-8c9d-c70441d294b9',\n",
       " 'f8f1d801-eb2b-11ed-8c9d-c70441d294b9',\n",
       " 'f8f1d802-eb2b-11ed-8c9d-c70441d294b9',\n",
       " 'f8f1d803-eb2b-11ed-8c9d-c70441d294b9',\n",
       " 'f8f1d804-eb2b-11ed-8c9d-c70441d294b9',\n",
       " 'f8f1d805-eb2b-11ed-8c9d-c70441d294b9',\n",
       " 'f8f1d806-eb2b-11ed-8c9d-c70441d294b9',\n",
       " 'f8f1d807-eb2b-11ed-8c9d-c70441d294b9',\n",
       " 'f8f1d808-eb2b-11ed-8c9d-c70441d294b9',\n",
       " 'f8f1d809-eb2b-11ed-8c9d-c70441d294b9',\n",
       " 'f8f1d80a-eb2b-11ed-8c9d-c70441d294b9',\n",
       " 'f8f1d80b-eb2b-11ed-8c9d-c70441d294b9',\n",
       " 'f8f1d80c-eb2b-11ed-8c9d-c70441d294b9',\n",
       " 'f8f1d80d-eb2b-11ed-8c9d-c70441d294b9',\n",
       " 'f8f1d80e-eb2b-11ed-8c9d-c70441d294b9',\n",
       " 'f8f1d80f-eb2b-11ed-8c9d-c70441d294b9',\n",
       " 'f8f1d810-eb2b-11ed-8c9d-c70441d294b9',\n",
       " 'f8f1d811-eb2b-11ed-8c9d-c70441d294b9',\n",
       " 'f8f1d812-eb2b-11ed-8c9d-c70441d294b9',\n",
       " 'f8f1d813-eb2b-11ed-8c9d-c70441d294b9',\n",
       " 'f8f1d814-eb2b-11ed-8c9d-c70441d294b9',\n",
       " 'f8f1d815-eb2b-11ed-8c9d-c70441d294b9',\n",
       " 'f8f1d816-eb2b-11ed-8c9d-c70441d294b9',\n",
       " 'f8f1d817-eb2b-11ed-8c9d-c70441d294b9',\n",
       " 'f8f1d818-eb2b-11ed-8c9d-c70441d294b9',\n",
       " 'f8f1d819-eb2b-11ed-8c9d-c70441d294b9',\n",
       " 'f8f1d81a-eb2b-11ed-8c9d-c70441d294b9',\n",
       " 'f8f1d81b-eb2b-11ed-8c9d-c70441d294b9',\n",
       " 'f8f1d81c-eb2b-11ed-8c9d-c70441d294b9',\n",
       " 'f8f1d81d-eb2b-11ed-8c9d-c70441d294b9',\n",
       " 'f8f1d81e-eb2b-11ed-8c9d-c70441d294b9',\n",
       " 'f8f1d81f-eb2b-11ed-8c9d-c70441d294b9',\n",
       " 'f8f1d820-eb2b-11ed-8c9d-c70441d294b9',\n",
       " 'f8f1d821-eb2b-11ed-8c9d-c70441d294b9',\n",
       " 'f8f1d822-eb2b-11ed-8c9d-c70441d294b9',\n",
       " 'f8f1d823-eb2b-11ed-8c9d-c70441d294b9',\n",
       " 'f8f1d824-eb2b-11ed-8c9d-c70441d294b9',\n",
       " 'f8f1d825-eb2b-11ed-8c9d-c70441d294b9',\n",
       " 'f8f1d826-eb2b-11ed-8c9d-c70441d294b9',\n",
       " 'f8f1d827-eb2b-11ed-8c9d-c70441d294b9',\n",
       " 'f8f1d828-eb2b-11ed-8c9d-c70441d294b9',\n",
       " 'f8f1d829-eb2b-11ed-8c9d-c70441d294b9',\n",
       " 'f8f1d82a-eb2b-11ed-8c9d-c70441d294b9',\n",
       " 'f8f1d82b-eb2b-11ed-8c9d-c70441d294b9',\n",
       " 'f8f1d82c-eb2b-11ed-8c9d-c70441d294b9',\n",
       " 'f8f1d82d-eb2b-11ed-8c9d-c70441d294b9',\n",
       " 'f8f1d82e-eb2b-11ed-8c9d-c70441d294b9',\n",
       " 'f8f1d82f-eb2b-11ed-8c9d-c70441d294b9',\n",
       " 'f8f1d830-eb2b-11ed-8c9d-c70441d294b9',\n",
       " 'f8f1d831-eb2b-11ed-8c9d-c70441d294b9',\n",
       " 'f8f1d832-eb2b-11ed-8c9d-c70441d294b9',\n",
       " 'f8f1d833-eb2b-11ed-8c9d-c70441d294b9',\n",
       " 'f8f1d834-eb2b-11ed-8c9d-c70441d294b9',\n",
       " 'f8f1d835-eb2b-11ed-8c9d-c70441d294b9',\n",
       " 'f8f1d836-eb2b-11ed-8c9d-c70441d294b9',\n",
       " 'f8f1d837-eb2b-11ed-8c9d-c70441d294b9',\n",
       " 'f8f1d838-eb2b-11ed-8c9d-c70441d294b9',\n",
       " 'f8f1d839-eb2b-11ed-8c9d-c70441d294b9',\n",
       " 'f8f1d83a-eb2b-11ed-8c9d-c70441d294b9',\n",
       " 'f8f1d83b-eb2b-11ed-8c9d-c70441d294b9',\n",
       " 'f8f1d83c-eb2b-11ed-8c9d-c70441d294b9',\n",
       " 'f8f1d83d-eb2b-11ed-8c9d-c70441d294b9',\n",
       " 'f8f1d83e-eb2b-11ed-8c9d-c70441d294b9',\n",
       " 'f8f1d83f-eb2b-11ed-8c9d-c70441d294b9',\n",
       " 'f8f1d840-eb2b-11ed-8c9d-c70441d294b9',\n",
       " 'f8f1d841-eb2b-11ed-8c9d-c70441d294b9',\n",
       " 'f8f1d842-eb2b-11ed-8c9d-c70441d294b9',\n",
       " 'f8f1d843-eb2b-11ed-8c9d-c70441d294b9',\n",
       " 'f8f1d844-eb2b-11ed-8c9d-c70441d294b9',\n",
       " 'f8f1d845-eb2b-11ed-8c9d-c70441d294b9',\n",
       " 'f8f1d846-eb2b-11ed-8c9d-c70441d294b9',\n",
       " 'f8f1d847-eb2b-11ed-8c9d-c70441d294b9',\n",
       " 'f8f1d848-eb2b-11ed-8c9d-c70441d294b9',\n",
       " 'f8f1d849-eb2b-11ed-8c9d-c70441d294b9',\n",
       " 'f8f1d84a-eb2b-11ed-8c9d-c70441d294b9',\n",
       " 'f8f1d84b-eb2b-11ed-8c9d-c70441d294b9',\n",
       " 'f8f1d84c-eb2b-11ed-8c9d-c70441d294b9',\n",
       " 'f8f1d84d-eb2b-11ed-8c9d-c70441d294b9',\n",
       " 'f8f1d84e-eb2b-11ed-8c9d-c70441d294b9',\n",
       " 'f8f1d84f-eb2b-11ed-8c9d-c70441d294b9',\n",
       " 'f8f1d850-eb2b-11ed-8c9d-c70441d294b9',\n",
       " 'f8f1d851-eb2b-11ed-8c9d-c70441d294b9',\n",
       " 'f8f1d852-eb2b-11ed-8c9d-c70441d294b9',\n",
       " 'f8f1d853-eb2b-11ed-8c9d-c70441d294b9',\n",
       " 'f8f1d854-eb2b-11ed-8c9d-c70441d294b9',\n",
       " 'f8f1d855-eb2b-11ed-8c9d-c70441d294b9',\n",
       " 'f8f1d856-eb2b-11ed-8c9d-c70441d294b9',\n",
       " 'f8f1d857-eb2b-11ed-8c9d-c70441d294b9',\n",
       " 'f8f1d858-eb2b-11ed-8c9d-c70441d294b9',\n",
       " 'f8f1d859-eb2b-11ed-8c9d-c70441d294b9',\n",
       " 'f8f1d85a-eb2b-11ed-8c9d-c70441d294b9',\n",
       " 'f8f1d85b-eb2b-11ed-8c9d-c70441d294b9',\n",
       " 'f8f1d85c-eb2b-11ed-8c9d-c70441d294b9',\n",
       " 'f8f1d85d-eb2b-11ed-8c9d-c70441d294b9',\n",
       " 'f8f1d85e-eb2b-11ed-8c9d-c70441d294b9',\n",
       " 'f8f1d85f-eb2b-11ed-8c9d-c70441d294b9',\n",
       " 'f8f1d860-eb2b-11ed-8c9d-c70441d294b9',\n",
       " 'f8f1d861-eb2b-11ed-8c9d-c70441d294b9',\n",
       " 'f8f1d862-eb2b-11ed-8c9d-c70441d294b9',\n",
       " 'f8f1d863-eb2b-11ed-8c9d-c70441d294b9',\n",
       " 'f8f1d864-eb2b-11ed-8c9d-c70441d294b9',\n",
       " 'f8f1d865-eb2b-11ed-8c9d-c70441d294b9',\n",
       " 'f8f1d866-eb2b-11ed-8c9d-c70441d294b9']"
      ]
     },
     "execution_count": 9,
     "metadata": {},
     "output_type": "execute_result"
    }
   ],
   "source": [
    "text_splitter = CharacterTextSplitter(chunk_size=1000, chunk_overlap=0)\n",
    "texts = text_splitter.split_documents(data)\n",
    "\n",
    "embeddings = OpenAIEmbeddings()\n",
    "\n",
    "db = DeepLake(dataset_path=\"https:/app.activeloop.ai/pravosnazna/dataset\", embedding_function=embeddings, token=ACTIVELOOP_TOKEN)\n",
    "db.add_documents(texts)"
   ]
  },
  {
   "cell_type": "code",
   "execution_count": 10,
   "metadata": {},
   "outputs": [
    {
     "name": "stdout",
     "output_type": "stream",
     "text": [
      "https:/app.activeloop.ai/pravosnazna/dataset loaded successfully.\n",
      "\n"
     ]
    },
    {
     "name": "stderr",
     "output_type": "stream",
     "text": [
      "Deep Lake Dataset in https:/app.activeloop.ai/pravosnazna/dataset already exists, loading from the storage\n"
     ]
    },
    {
     "name": "stdout",
     "output_type": "stream",
     "text": [
      "Dataset(path='https:/app.activeloop.ai/pravosnazna/dataset', tensors=['embedding', 'ids', 'metadata', 'text'])\n",
      "\n",
      "  tensor     htype      shape      dtype  compression\n",
      "  -------   -------    -------    -------  ------- \n",
      " embedding  generic  (424, 1536)  float32   None   \n",
      "    ids      text     (424, 1)      str     None   \n",
      " metadata    json     (424, 1)      str     None   \n",
      "   text      text     (424, 1)      str     None   \n"
     ]
    },
    {
     "name": "stderr",
     "output_type": "stream",
     "text": [
      "Evaluating ingest: 100%|██████████| 1/1 [00:05<00:00\n"
     ]
    },
    {
     "name": "stdout",
     "output_type": "stream",
     "text": [
      "Dataset(path='https:/app.activeloop.ai/pravosnazna/dataset', tensors=['embedding', 'ids', 'metadata', 'text'])\n",
      "\n",
      "  tensor     htype      shape      dtype  compression\n",
      "  -------   -------    -------    -------  ------- \n",
      " embedding  generic  (563, 1536)  float32   None   \n",
      "    ids      text     (563, 1)      str     None   \n",
      " metadata    json     (563, 1)      str     None   \n",
      "   text      text     (563, 1)      str     None   \n"
     ]
    }
   ],
   "source": [
    "db = DeepLake.from_documents(texts, dataset_path=\"https:/app.activeloop.ai/pravosnazna/dataset\", embedding=embeddings)\n",
    "query = \"how to check disk usage in linux?\"\n",
    "docs = db.similarity_search(query)"
   ]
  },
  {
   "cell_type": "code",
   "execution_count": 11,
   "metadata": {},
   "outputs": [],
   "source": [
    "faqs = [\n",
    "    \"What is Linux?\\nLinux is an open-source operating system based on Unix. It is popularly used in servers, desktops, and embedded systems. It is known for its stability, security, and flexibility.\",\n",
    "    \"What are the advantages of using Linux?\\nLinux offers numerous advantages, including open-source nature, lower cost, high stability, strong security, customizability, and a supportive community.\",\n",
    "    \"What is the difference between Linux and Windows?\\nLinux is an open-source, Unix-like operating system, while Windows is a closed-source, proprietary operating system developed by Microsoft. They differ in terms of cost, customizability, stability, security, and other factors.\",\n",
    "    \"How do I choose a Linux distribution?\\nChoosing a Linux distribution depends on factors such as your intended use, hardware compatibility, personal preferences, and the level of community support. Popular distributions include Ubuntu, Fedora, Debian, and CentOS.\",\n",
    "    \"What are Linux command-line basics?\\nLinux command-line basics involve navigating directories, managing files, searching, and executing commands. Common commands include 'cd' for changing directories, 'ls' for listing files, 'cp' for copying files, and 'rm' for removing files.\",\n",
    "    \"How do I install software on Linux?\\nInstalling software on Linux can be done through package managers, software repositories, or by compiling from source code. Popular package managers include apt for Debian-based systems and yum for Red Hat-based systems.\",\n",
    "    \"What is a Linux kernel?\\nThe Linux kernel is the core component of the Linux operating system. It is responsible for managing system resources, hardware, and providing a communication layer between the hardware and the user applications.\"\n",
    "]\n"
   ]
  },
  {
   "cell_type": "code",
   "execution_count": 13,
   "metadata": {},
   "outputs": [
    {
     "name": "stderr",
     "output_type": "stream",
     "text": [
      "Evaluating ingest: 100%|██████████| 1/1 [00:04<00:00\n"
     ]
    },
    {
     "name": "stdout",
     "output_type": "stream",
     "text": [
      "Dataset(path='https:/app.activeloop.ai/pravosnazna/dataset', tensors=['embedding', 'ids', 'metadata', 'text'])\n",
      "\n",
      "  tensor     htype      shape      dtype  compression\n",
      "  -------   -------    -------    -------  ------- \n",
      " embedding  generic  (577, 1536)  float32   None   \n",
      "    ids      text     (577, 1)      str     None   \n",
      " metadata    json     (577, 1)      str     None   \n",
      "   text      text     (577, 1)      str     None   \n"
     ]
    },
    {
     "name": "stderr",
     "output_type": "stream",
     "text": []
    },
    {
     "data": {
      "text/plain": [
       "['195f4eb4-eb2c-11ed-8c9d-c70441d294b9',\n",
       " '195f4eb5-eb2c-11ed-8c9d-c70441d294b9',\n",
       " '195f4eb6-eb2c-11ed-8c9d-c70441d294b9',\n",
       " '195f4eb7-eb2c-11ed-8c9d-c70441d294b9',\n",
       " '195f4eb8-eb2c-11ed-8c9d-c70441d294b9',\n",
       " '195f4eb9-eb2c-11ed-8c9d-c70441d294b9',\n",
       " '195f4eba-eb2c-11ed-8c9d-c70441d294b9']"
      ]
     },
     "execution_count": 13,
     "metadata": {},
     "output_type": "execute_result"
    }
   ],
   "source": [
    "db.add_texts(faqs)"
   ]
  },
  {
   "cell_type": "code",
   "execution_count": 14,
   "metadata": {},
   "outputs": [],
   "source": [
    "from langchain import PromptTemplate\n",
    "from langchain.llms import OpenAI\n",
    "\n",
    "# create prompt template\n",
    "template = \"\"\"You are an exceptional customer support chatbot that gently answer questions of customers of Paypal.\n",
    "\n",
    "You know the following FAQs from the websites.\n",
    "\n",
    "{faqs_formatted}\n",
    "\n",
    "Answer to the following question from a customer. Use only information from the previous FAQs. Do not invent stuff.\n",
    "\n",
    "Question: {query}\n",
    "\n",
    "Answer:\"\"\"\n",
    "\n",
    "prompt = PromptTemplate(\n",
    "    input_variables=[\"faqs_formatted\", \"query\"],\n",
    "    template=template,\n",
    ")"
   ]
  },
  {
   "cell_type": "code",
   "execution_count": 15,
   "metadata": {},
   "outputs": [],
   "source": [
    "# user question\n",
    "query = \"How to save instagram story?\"\n",
    "\n",
    "# retrieve the top-k (e.g. top-3) faqs most similar to the user query\n",
    "docs = db.similarity_search(query)\n",
    "retrieved_faqs = [doc.page_content for doc in docs]\n",
    "\n",
    "# format prompt\n",
    "faqs_formatted = \"\\n\\n\".join(retrieved_faqs)\n",
    "prompt_formatted = prompt.format(faqs_formatted=faqs_formatted, query=query)"
   ]
  },
  {
   "cell_type": "code",
   "execution_count": 16,
   "metadata": {},
   "outputs": [
    {
     "name": "stdout",
     "output_type": "stream",
     "text": [
      " To save an Instagram story, open the Instagram app and move to your profile. Here, tap the hamburger menu in the top-right corner and open “Archive“. Archive saves all your past stories in the cloud. Now, choose the story you want to download. After that, tap on the three-dot menu and select “Save Video” from the pop-up. The story will be saved to your camera roll but without music.\n"
     ]
    }
   ],
   "source": [
    "# send formatted prompt to llm\n",
    "llm = OpenAI(temperature=0.0)\n",
    "answer = llm(prompt_formatted)\n",
    "print(answer)"
   ]
  }
 ],
 "metadata": {
  "kernelspec": {
   "display_name": "Python 3",
   "language": "python",
   "name": "python3"
  },
  "language_info": {
   "codemirror_mode": {
    "name": "ipython",
    "version": 3
   },
   "file_extension": ".py",
   "mimetype": "text/x-python",
   "name": "python",
   "nbconvert_exporter": "python",
   "pygments_lexer": "ipython3",
   "version": "3.9.2"
  },
  "orig_nbformat": 4,
  "vscode": {
   "interpreter": {
    "hash": "916dbcbb3f70747c44a77c7bcd40155683ae19c65e1c03b4aa3499c5328201f1"
   }
  }
 },
 "nbformat": 4,
 "nbformat_minor": 2
}
