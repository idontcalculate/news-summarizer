{
 "cells": [
  {
   "cell_type": "code",
   "execution_count": 35,
   "metadata": {},
   "outputs": [],
   "source": [
    "import os \n",
    "import json \n",
    "from dotenv import load_dotenv\n",
    "load_dotenv()\n",
    "\n",
    "OPENAI_API_KEY =os.getenv(\"OPENAI_API_KEY\")\n",
    "GOOGLE_API_KEY =os.getenv(\"GOOGLE_API_KEY\")\n",
    "GOOGLE_CSE_ID=os.getenv(\"GOOGLE_CSE_ID\")"
   ]
  },
  {
   "cell_type": "code",
   "execution_count": 36,
   "metadata": {},
   "outputs": [],
   "source": [
    "from langchain.agents import load_tools\n",
    "from langchain.agents import initialize_agent\n",
    "from langchain.llms import OpenAI\n",
    "from langchain.utilities import GoogleSearchAPIWrapper\n",
    "from langchain.prompts import PromptTemplate\n",
    "from langchain.chat_models import ChatOpenAI\n",
    "from langchain.utilities import TextRequestsWrapper\n",
    "\n",
    "\n",
    "llm = OpenAI(temperature=0)\n",
    "tools = load_tools([\"google-search\"], [\"requests_all\"])\n",
    "\n",
    "agent = initialize_agent(tools, \n",
    "                         llm, \n",
    "                         agent=\"zero-shot-react-description\", \n",
    "                         verbose=True)"
   ]
  },
  {
   "cell_type": "code",
   "execution_count": 1,
   "metadata": {},
   "outputs": [],
   "source": [
    "import requests\n",
    "from bs4 import BeautifulSoup\n",
    "\n",
    "def fetch_titles(url: str):\n",
    "    page = requests.get(url)\n",
    "    soup = BeautifulSoup(page.content, 'html.parser')\n",
    "    \n",
    "    # Modify the selector according to the structure of CBS News website\n",
    "    titles = soup.select('h4.title')\n",
    "    return [title.text.strip() for title in titles]\n"
   ]
  },
  {
   "cell_type": "code",
   "execution_count": 5,
   "metadata": {},
   "outputs": [],
   "source": [
    "from langchain.agents import load_tools\n",
    "from langchain.agents import initialize_agent\n",
    "from langchain.agents import Tool\n",
    "from langchain.llms import OpenAI\n",
    "from langchain.utilities import GoogleSearchAPIWrapper\n",
    "from langchain.prompts import PromptTemplate\n",
    "from langchain.chat_models import ChatOpenAI\n",
    "from langchain.utilities import TextRequestsWrapper\n",
    "\n",
    "\n",
    "llm = OpenAI(temperature=0)\n",
    "\n",
    "tools = [\n",
    "    # Other tools...\n",
    "    Tool(\n",
    "        name=\"Fetch titles from CBS News\",\n",
    "        func=fetch_titles,\n",
    "        description=\"Fetches titles from CBS News website\"\n",
    "    ),\n",
    "]\n",
    "agent = initialize_agent(tools, llm, agent=\"zero-shot-react-description\", verbose=True)"
   ]
  },
  {
   "cell_type": "code",
   "execution_count": null,
   "metadata": {},
   "outputs": [],
   "source": [
    "titles = agent.run(\"Fetch titles from CBS News website using the fetch_titles tool with the URL https://www.cbsnews.com/\")\n"
   ]
  },
  {
   "cell_type": "code",
   "execution_count": null,
   "metadata": {},
   "outputs": [],
   "source": [
    "from langchain.utilities import GoogleSearchAPIWrapper\n",
    "\n",
    "search_tool = Tool(\n",
    "    name=\"Google Search\",\n",
    "    func=GoogleSearchAPIWrapper().run,\n",
    "    description=\"Search for the CBS News top stories\"\n",
    ")\n",
    "\n",
    "agent = initialize_agent([search_tool], llm, agent=\"zero-shot-react-description\", verbose=True)\n",
    "\n",
    "search_results = agent.run(\"What are the titles of the top stories on [www.cbsnews.com/]\")\n"
   ]
  },
  {
   "cell_type": "code",
   "execution_count": 45,
   "metadata": {},
   "outputs": [],
   "source": [
    "from langchain.agents import Tool\n",
    "from langchain.utilities import PythonREPL\n",
    "python_repl = PythonREPL()\n",
    "\n",
    "repl_tool = Tool(\n",
    "    name=\"python_repl\",\n",
    "    description=\"Use this tool to save the news titles in the text file. Extract the titles from the search results, Save the extracted titles to a local txt file \",\n",
    "    func=python_repl.run\n",
    ")"
   ]
  },
  {
   "cell_type": "code",
   "execution_count": 46,
   "metadata": {},
   "outputs": [],
   "source": [
    "from langchain.agents import initialize_agent\n",
    "\n",
    "tools = [search_tool, repl_tool]\n",
    "\n"
   ]
  },
  {
   "cell_type": "code",
   "execution_count": 47,
   "metadata": {},
   "outputs": [],
   "source": [
    "agent = initialize_agent(tools, llm, agent=\"zero-shot-react-description\", verbose=True, max_iterations=3)"
   ]
  },
  {
   "cell_type": "code",
   "execution_count": 48,
   "metadata": {},
   "outputs": [
    {
     "name": "stdout",
     "output_type": "stream",
     "text": [
      "\n",
      "\n",
      "\u001b[1m> Entering new AgentExecutor chain...\u001b[0m\n",
      "\u001b[32;1m\u001b[1;3m I need to search for the news titles and save them\n",
      "Action: Google Search\n",
      "Action Input: CBS News top stories\u001b[0m\n",
      "Observation: \u001b[36;1m\u001b[1;3mWatch CBS News live and get the latest, breaking news headlines of the day for national news and world news today. U.S. breaking news: Today's top stories updated by the CBS News team. U.S. breaking news: Today's top stories updated by the CBS News team. Go to NBCNews.com for breaking news, videos, and the latest top stories in world news, business, politics, health and pop culture. Latest world news, breaking news and today's news stories updated daily from the CBS News team. ... cbsn-fusion-hollywood-writers-strike-shuts-down-top- ... The latest news from across Canada and around the world. ... U.S. sharing 'best practices' with Canada on establishing a foreign agent registry. Emmy-winning journalist Norah O'Donnell brings years of experience with CBS News to the anchor chair, offering a weeknight survey of major news stories. News 8 and CBS8.com is the local source for San Diego breaking news and top story headlines. Get the latest local San Diego TV news, sports, ... The Emmy Award-winning broadcast presents a mix of daily news, coverage of developing stories of national and global significance, and interviews with ... Key dates in discovery of classified records tied to Biden · <p>President Joe Biden salutes at the top of the steps of Air Force.\u001b[0m\n",
      "Thought:\u001b[32;1m\u001b[1;3m I need to extract the titles from the search results and save them to a local txt file\n",
      "Action: python_repl\n",
      "Action Input: Extract the titles from the search results, Save the extracted titles to a local txt file\u001b[0m\n",
      "Observation: \u001b[33;1m\u001b[1;3minvalid syntax (<string>, line 1)\u001b[0m\n",
      "Thought:\u001b[32;1m\u001b[1;3m I need to use the correct syntax to extract the titles from the search results and save them to a local txt file\n",
      "Action: python_repl\n",
      "Action Input: titles = [title.text for title in soup.find_all('h3')] with open('titles.txt', 'w') as f: for title in titles: f.write(title + '\n",
      "\n",
      "')\u001b[0m\n",
      "Observation: \u001b[33;1m\u001b[1;3minvalid syntax (<string>, line 1)\u001b[0m\n",
      "Thought:\u001b[32;1m\u001b[1;3m\u001b[0m\n",
      "\n",
      "\u001b[1m> Finished chain.\u001b[0m\n"
     ]
    },
    {
     "data": {
      "text/plain": [
       "'Agent stopped due to iteration limit or time limit.'"
      ]
     },
     "execution_count": 48,
     "metadata": {},
     "output_type": "execute_result"
    }
   ],
   "source": [
    "agent.run(\"find cbs news titles, and save them in the text file\")"
   ]
  }
 ],
 "metadata": {
  "kernelspec": {
   "display_name": "Python 3",
   "language": "python",
   "name": "python3"
  },
  "language_info": {
   "codemirror_mode": {
    "name": "ipython",
    "version": 3
   },
   "file_extension": ".py",
   "mimetype": "text/x-python",
   "name": "python",
   "nbconvert_exporter": "python",
   "pygments_lexer": "ipython3",
   "version": "3.9.2 (default, Feb 28 2021, 17:03:44) \n[GCC 10.2.1 20210110]"
  },
  "orig_nbformat": 4,
  "vscode": {
   "interpreter": {
    "hash": "916dbcbb3f70747c44a77c7bcd40155683ae19c65e1c03b4aa3499c5328201f1"
   }
  }
 },
 "nbformat": 4,
 "nbformat_minor": 2
}
