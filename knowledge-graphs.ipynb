{
 "cells": [
  {
   "cell_type": "code",
   "execution_count": 1,
   "metadata": {},
   "outputs": [],
   "source": [
    "import os \n",
    "import json \n",
    "from dotenv import load_dotenv\n",
    "load_dotenv()\n",
    "\n",
    "OPENAI_API_KEY =os.getenv(\"OPENAI_API_KEY\")"
   ]
  },
  {
   "cell_type": "code",
   "execution_count": 49,
   "metadata": {},
   "outputs": [],
   "source": [
    "import requests\n",
    "from bs4 import BeautifulSoup\n",
    "\n",
    "url = 'https://www.nbcnews.com/news/world/worlds-workers-rally-may-day-france-braces-protests-rcna82204'\n",
    "response = requests.get(url)\n",
    "soup = BeautifulSoup(response.text, 'html.parser')\n",
    "article_content = soup.find('div', {'class': 'article-body'})\n",
    "\n",
    "# Check if article_content is not None before proceeding\n",
    "if article_content:\n",
    "    # Extract the text content from the article_content variable\n",
    "    text_content = article_content.get_text()\n",
    "\n",
    "    # Save the extracted text to a file\n",
    "    with open('article_content.txt', 'w', encoding='utf-8') as file:\n",
    "        file.write(text_content)\n",
    "else:\n",
    "    print(\"Article content not found.\")\n"
   ]
  },
  {
   "cell_type": "code",
   "execution_count": 53,
   "metadata": {},
   "outputs": [
    {
     "name": "stdout",
     "output_type": "stream",
     "text": [
      "Link copiedMay 1, 2023, 12:03 PM UTC / Updated May 1, 2023, 1:31 PM UTC / Source: Associated PressBy Associated PressPeople squeezed by inflation and demanding economic justice took to the streets of cities across Asia and Europe to mark May Day on Monday, in a global outpouring of worker discontent not seen since before the Covid-19 pandemic sent the world into lockdowns.French unions pushed the president to scrap a higher retirement age. South Koreans pleaded for higher wages. Spanish lawyers demanded the right to take days off. Migrant domestic workers in Lebanon marched in a country plunged in economic crisis.While May Day is marked around the world on May 1 as a celebration of labor rights, this year’s rallies tapped into broader frustrations. Climate activists spraypainted a Louis Vuitton museum in Paris, and protesters in Germany demonstrated against violence targeting women and LGBTQ+ people.Celebrations were forced indoors in Pakistan and tinged with political tensions in Turkey, as both countries face high-stakes elections. Russia’s war in Ukraine overshadowed scaled-back events in Moscow, where Communist-led May Day celebrations were once massive affairs.Across Asia, this year’s May Day events unleashed pent-up frustration after three years of Covid-19 restrictions. This year’s events had bigger turnouts than in previous years in Asian cities, as activists in many countries argued governments should do more to improve workers’ lives.Across France, thousands marched in what unions hope are the country’s biggest May Day demonstrations in years, mobilized against President Emmanuel Macron’s recent move to raise the retirement age from 62 to 64. Organizers see the pension reform as a threat to hard-fought worker rights, while Macron argues it’s economically necessary as the population ages.Protestors take part in a demonstration on May Day to mark the international day of the workers in Lille, France, on May 1, 2023. Sameer Al-Doumy / AFP - Getty ImagesThe monthslong protest movement shows “workers’ hope to be treated differently,” Laurent Berger, head of the influential moderate union CFDT, said at the Paris march Monday.While marchers appeared largely peaceful, police detained 22 people in Paris and dispersed protesters in Lyon with tear gas after troublemakers smashed bank windows and other property. French police have come under fire for using drones to film disruptions on Monday in some cities.Union members marched from Calais in the north to Toulouse in the south, joined by environmental activists and other groups fighting for economic justice, or just expressing anger at Macron and what is seen as his out-of-touch, pro-business leadership. Activists opposed to the 2024 Paris Olympics and their impact on society and the environment also demonstrated.In Turkey, police prevented a group of demonstrators from reaching Istanbul’s main square, Taksim, and detained around a dozen protesters, the independent television station Sozcu reported. Journalists trying to film demonstrators being forcibly moved into police vans were also pushed back or detained.The square has symbolic importance for Turkey’s trade unions after unknown gunmen opened fire on people celebrating May Day at Taksim in 1977, causing a stampede. Dozens were killed.President Recep Tayyip Erdogan’s government has declared Taksim off-limits to demonstrations, leading to frequent clashes between police and protesters trying to reach the square. Meanwhile, small groups were allowed to enter Taksim to lay wreaths at a monument there.In Pakistan, authorities banned rallies in some cities due to a tense security situation or political atmosphere. In Peshawar, in the country’s restive northwest, labor organizations and trade unions held indoor events to demand better workers’ rights amid high inflation.Members of a workers union hold signs during a May Day march in Belgrade, Serbia, on May 1, 2023.Andrej Isakovic / AFP - Getty ImagesMore than 70 marches were held across Spain, led by the country’s powerful unions, who warned of “social conflict” if Spain’s low salaries for the EU average did not rise in line with inflation. They also praised incentives to move Spain to a four-day working week to relieve the strain on workers.In South Korea, tens of thousands of people attended various rallies in its biggest May Day gatherings since the pandemic began in early 2020.In Tokyo, thousands of labor union members, opposition lawmakers and academics gathered at Yoyogi park, demanding wage increases to offset the impact of rising costs as their lives are still recovering from damage from the pandemic.They criticized Prime Minister Fumio Kishida’s plan to double the defense budget, and said the money should be spent on welfare, social security and improving people’s daily lives. Kishida has promised to focus on raising wages.In Indonesia, rally-goers demanded the government repeal a job creation law they argue would benefit business at the expense of workers and the environment.In Taiwan, thousands of workers took to the streets to protest what they call the inadequacies of the self-ruled island’s labor policies, putting pressure on the ruling party ahead of the 2024 presidential election.A protestor lights flare during a demonstration on May Day in Turin, Italy, on May 1, 2023.Marco Bertorello / AFP - Getty ImagesIn Lebanon, hundreds of Communist Party and trade syndicate members, as well as a group of migrant domestic workers, marched through the streets of downtown Beirut. The country is in the throes of a crippling economic crisis and spiraling inflation, with some three-quarters of the population now living in poverty.In North Korea, the country’s main Rodong Sinmun newspaper published a lengthy editorial urging workers to lend greater support to leader Kim Jong Un, fulfill their set production quotas and improve public livelihoods.Protests in Germany kicked off with a “Take Back the Night” rally organized by feminist and queer groups on the eve of May Day to protest against violence directed at women and LGBTQ+ people. Several thousand people took part in the march, which was largely peaceful despite occasional clashes between participants and police. Numerous further rallies by labor unions and left-wing groups are planned in Germany on Monday.Associated Press\n"
     ]
    }
   ],
   "source": [
    "def load_text_file(file_path):\n",
    "    with open(file_path, 'r', encoding='utf-8') as file:\n",
    "        content = file.read()\n",
    "    return content\n",
    "\n",
    "# Usage example:\n",
    "file_path = '/home/cloudsuperadmin/news-sum/article_content.txt'\n",
    "loaded_content = load_text_file(file_path)\n",
    "print(loaded_content)\n"
   ]
  },
  {
   "cell_type": "code",
   "execution_count": 58,
   "metadata": {},
   "outputs": [],
   "source": [
    "from langchain.text_splitter import CharacterTextSplitter\n",
    "text_splitter = CharacterTextSplitter.from_tiktoken_encoder(chunk_size=100, chunk_overlap=0)\n",
    "texts = text_splitter.split_text(loaded_content)"
   ]
  },
  {
   "cell_type": "code",
   "execution_count": 54,
   "metadata": {},
   "outputs": [],
   "source": [
    "from langchain.text_splitter import RecursiveCharacterTextSplitter\n",
    "\n",
    "text_splitter = RecursiveCharacterTextSplitter(\n",
    "    # Set a really small chunk size, just to show.\n",
    "    chunk_size = 500,\n",
    "    chunk_overlap  = 20,\n",
    "    length_function = len,\n",
    ")\n",
    "\n",
    "texts = text_splitter.create_documents(loaded_content)"
   ]
  },
  {
   "cell_type": "code",
   "execution_count": 60,
   "metadata": {},
   "outputs": [
    {
     "name": "stdout",
     "output_type": "stream",
     "text": [
      "Link copiedMay 1, 2023, 12:03 PM UTC / Updated May 1, 2023, 1:31 PM UTC / Source: Associated PressBy Associated PressPeople squeezed by inflation and demanding economic justice took to the streets of cities across Asia and Europe to mark May Day on Monday, in a global outpouring of worker discontent not seen since before the Covid-19 pandemic sent the world into lockdowns.French unions pushed the president to scrap a higher retirement age. South Koreans pleaded for higher wages. Spanish lawyers demanded the right to take days off. Migrant domestic workers in Lebanon marched in a country plunged in economic crisis.While May Day is marked around the world on May 1 as a celebration of labor rights, this year’s rallies tapped into broader frustrations. Climate activists spraypainted a Louis Vuitton museum in Paris, and protesters in Germany demonstrated against violence targeting women and LGBTQ+ people.Celebrations were forced indoors in Pakistan and tinged with political tensions in Turkey, as both countries face high-stakes elections. Russia’s war in Ukraine overshadowed scaled-back events in Moscow, where Communist-led May Day celebrations were once massive affairs.Across Asia, this year’s May Day events unleashed pent-up frustration after three years of Covid-19 restrictions. This year’s events had bigger turnouts than in previous years in Asian cities, as activists in many countries argued governments should do more to improve workers’ lives.Across France, thousands marched in what unions hope are the country’s biggest May Day demonstrations in years, mobilized against President Emmanuel Macron’s recent move to raise the retirement age from 62 to 64. Organizers see the pension reform as a threat to hard-fought worker rights, while Macron argues it’s economically necessary as the population ages.Protestors take part in a demonstration on May Day to mark the international day of the workers in Lille, France, on May 1, 2023. Sameer Al-Doumy / AFP - Getty ImagesThe monthslong protest movement shows “workers’ hope to be treated differently,” Laurent Berger, head of the influential moderate union CFDT, said at the Paris march Monday.While marchers appeared largely peaceful, police detained 22 people in Paris and dispersed protesters in Lyon with tear gas after troublemakers smashed bank windows and other property. French police have come under fire for using drones to film disruptions on Monday in some cities.Union members marched from Calais in the north to Toulouse in the south, joined by environmental activists and other groups fighting for economic justice, or just expressing anger at Macron and what is seen as his out-of-touch, pro-business leadership. Activists opposed to the 2024 Paris Olympics and their impact on society and the environment also demonstrated.In Turkey, police prevented a group of demonstrators from reaching Istanbul’s main square, Taksim, and detained around a dozen protesters, the independent television station Sozcu reported. Journalists trying to film demonstrators being forcibly moved into police vans were also pushed back or detained.The square has symbolic importance for Turkey’s trade unions after unknown gunmen opened fire on people celebrating May Day at Taksim in 1977, causing a stampede. Dozens were killed.President Recep Tayyip Erdogan’s government has declared Taksim off-limits to demonstrations, leading to frequent clashes between police and protesters trying to reach the square. Meanwhile, small groups were allowed to enter Taksim to lay wreaths at a monument there.In Pakistan, authorities banned rallies in some cities due to a tense security situation or political atmosphere. In Peshawar, in the country’s restive northwest, labor organizations and trade unions held indoor events to demand better workers’ rights amid high inflation.Members of a workers union hold signs during a May Day march in Belgrade, Serbia, on May 1, 2023.Andrej Isakovic / AFP - Getty ImagesMore than 70 marches were held across Spain, led by the country’s powerful unions, who warned of “social conflict” if Spain’s low salaries for the EU average did not rise in line with inflation. They also praised incentives to move Spain to a four-day working week to relieve the strain on workers.In South Korea, tens of thousands of people attended various rallies in its biggest May Day gatherings since the pandemic began in early 2020.In Tokyo, thousands of labor union members, opposition lawmakers and academics gathered at Yoyogi park, demanding wage increases to offset the impact of rising costs as their lives are still recovering from damage from the pandemic.They criticized Prime Minister Fumio Kishida’s plan to double the defense budget, and said the money should be spent on welfare, social security and improving people’s daily lives. Kishida has promised to focus on raising wages.In Indonesia, rally-goers demanded the government repeal a job creation law they argue would benefit business at the expense of workers and the environment.In Taiwan, thousands of workers took to the streets to protest what they call the inadequacies of the self-ruled island’s labor policies, putting pressure on the ruling party ahead of the 2024 presidential election.A protestor lights flare during a demonstration on May Day in Turin, Italy, on May 1, 2023.Marco Bertorello / AFP - Getty ImagesIn Lebanon, hundreds of Communist Party and trade syndicate members, as well as a group of migrant domestic workers, marched through the streets of downtown Beirut. The country is in the throes of a crippling economic crisis and spiraling inflation, with some three-quarters of the population now living in poverty.In North Korea, the country’s main Rodong Sinmun newspaper published a lengthy editorial urging workers to lend greater support to leader Kim Jong Un, fulfill their set production quotas and improve public livelihoods.Protests in Germany kicked off with a “Take Back the Night” rally organized by feminist and queer groups on the eve of May Day to protest against violence directed at women and LGBTQ+ people. Several thousand people took part in the march, which was largely peaceful despite occasional clashes between participants and police. Numerous further rallies by labor unions and left-wing groups are planned in Germany on Monday.Associated Press\n"
     ]
    }
   ],
   "source": [
    "print(texts[0])"
   ]
  },
  {
   "cell_type": "code",
   "execution_count": 62,
   "metadata": {},
   "outputs": [],
   "source": [
    "from langchain.indexes import GraphIndexCreator\n",
    "from langchain.llms import OpenAI\n",
    "from langchain.chains import GraphQAChain\n",
    "\n"
   ]
  },
  {
   "cell_type": "code",
   "execution_count": 64,
   "metadata": {},
   "outputs": [],
   "source": [
    "index_creator = GraphIndexCreator(llm=OpenAI(temperature=0))"
   ]
  },
  {
   "cell_type": "code",
   "execution_count": 65,
   "metadata": {},
   "outputs": [],
   "source": [
    "with open(\"/home/cloudsuperadmin/news-sum/news_content.txt\") as f:\n",
    "    all_text = f.read()"
   ]
  },
  {
   "cell_type": "code",
   "execution_count": 68,
   "metadata": {},
   "outputs": [],
   "source": [
    "graph = index_creator.from_text(all_text)"
   ]
  },
  {
   "cell_type": "code",
   "execution_count": 69,
   "metadata": {},
   "outputs": [],
   "source": [
    "chain = GraphQAChain.from_llm(OpenAI(temperature=0), graph=graph, verbose=True)"
   ]
  },
  {
   "cell_type": "code",
   "execution_count": 70,
   "metadata": {},
   "outputs": [
    {
     "name": "stdout",
     "output_type": "stream",
     "text": [
      "\n",
      "\n",
      "\u001b[1m> Entering new GraphQAChain chain...\u001b[0m\n",
      "Entities Extracted:\n",
      "\u001b[32;1m\u001b[1;3m Germany\u001b[0m\n",
      "Full Context:\n",
      "\u001b[32;1m\u001b[1;3mGermany demonstrated against violence targeting women and LGBTQ+ people\u001b[0m\n",
      "\n",
      "\u001b[1m> Finished chain.\u001b[0m\n"
     ]
    },
    {
     "data": {
      "text/plain": [
       "' The protesters in Germany demonstrated against violence targeting women and LGBTQ+ people.'"
      ]
     },
     "execution_count": 70,
     "metadata": {},
     "output_type": "execute_result"
    }
   ],
   "source": [
    "chain.run(\"What the protesters in Germany demonstrated against?\")"
   ]
  },
  {
   "cell_type": "code",
   "execution_count": 71,
   "metadata": {},
   "outputs": [],
   "source": [
    "import re\n",
    "from dateutil.parser import parse\n",
    "\n",
    "def find_and_reformat_dates(all_text):\n",
    "    # Regular expression pattern to find dates\n",
    "    date_pattern = r'\\b(?:Jan(?:uary)?|Feb(?:ruary)?|Mar(?:ch)?|Apr(?:il)?|May|Jun(?:e)?|Jul(?:y)?|Aug(?:ust)?|Sep(?:tember)?|Oct(?:ober)?|Nov(?:ember)?|Dec(?:ember)?)\\s+\\d{1,2},\\s+\\d{4}\\b'\n",
    "\n",
    "    # Find all date occurrences in the text\n",
    "    dates_found = re.findall(date_pattern, all_text)\n",
    "\n",
    "    # Reformat each date found\n",
    "    reformatted_dates = [parse(date).isoformat() for date in dates_found]\n",
    "\n",
    "    # Replace dates in text with reformatted dates\n",
    "    for original_date, reformatted_date in zip(dates_found, reformatted_dates):\n",
    "        text = all_text.replace(original_date, reformatted_date)\n",
    "\n",
    "    return text"
   ]
  },
  {
   "cell_type": "code",
   "execution_count": 72,
   "metadata": {},
   "outputs": [
    {
     "name": "stdout",
     "output_type": "stream",
     "text": [
      "People squeezed by inflation and demanding economic justice took to the streets of cities across Asia and Europe to mark May Day on Monday, in a global outpouring of worker discontent not seen since before the Covid-19 pandemic sent the world into lockdowns.French unions pushed the president to scrap a higher retirement age. South Koreans pleaded for higher wages. Spanish lawyers demanded the right to take days off. Migrant domestic workers in Lebanon marched in a country plunged in economic crisis.While May Day is marked around the world on May 1 as a celebration of labor rights, this year’s rallies tapped into broader frustrations. Climate activists spraypainted a Louis Vuitton museum in Paris, and protesters in Germany demonstrated against violence targeting women and LGBTQ+ people.Celebrations were forced indoors in Pakistan and tinged with political tensions in Turkey, as both countries face high-stakes elections. Russia’s war in Ukraine overshadowed scaled-back events in Moscow, where Communist-led May Day celebrations were once massive affairs.Across Asia, this year’s May Day events unleashed pent-up frustration after three years of Covid-19 restrictions. This year’s events had bigger turnouts than in previous years in Asian cities, as activists in many countries argued governments should do more to improve workers’ lives.Across France, thousands marched in what unions hope are the country’s biggest May Day demonstrations in years, mobilized against President Emmanuel Macron’s recent move to raise the retirement age from 62 to 64. Organizers see the pension reform as a threat to hard-fought worker rights, while Macron argues it’s economically necessary as the population ages.Protestors take part in a demonstration on May Day to mark the international day of the workers in Lille, France, on 2023-05-01T00:00:00. Sameer Al-Doumy / AFP - Getty ImagesThe monthslong protest movement shows “workers’ hope to be treated differently,” Laurent Berger, head of the influential moderate union CFDT, said at the Paris march Monday.While marchers appeared largely peaceful, police detained 22 people in Paris and dispersed protesters in Lyon with tear gas after troublemakers smashed bank windows and other property. French police have come under fire for using drones to film disruptions on Monday in some cities.Union members marched from Calais in the north to Toulouse in the south, joined by environmental activists and other groups fighting for economic justice, or just expressing anger at Macron and what is seen as his out-of-touch, pro-business leadership. Activists opposed to the 2024 Paris Olympics and their impact on society and the environment also demonstrated.In Turkey, police prevented a group of demonstrators from reaching Istanbul’s main square, Taksim, and detained around a dozen protesters, the independent television station Sozcu reported. Journalists trying to film demonstrators being forcibly moved into police vans were also pushed back or detained.The square has symbolic importance for Turkey’s trade unions after unknown gunmen opened fire on people celebrating May Day at Taksim in 1977, causing a stampede. Dozens were killed.President Recep Tayyip Erdogan’s government has declared Taksim off-limits to demonstrations, leading to frequent clashes between police and protesters trying to reach the square. Meanwhile, small groups were allowed to enter Taksim to lay wreaths at a monument there.In Pakistan, authorities banned rallies in some cities due to a tense security situation or political atmosphere. In Peshawar, in the country’s restive northwest, labor organizations and trade unions held indoor events to demand better workers’ rights amid high inflation.Members of a workers union hold signs during a May Day march in Belgrade, Serbia, on 2023-05-01T00:00:00.Andrej Isakovic / AFP - Getty ImagesMore than 70 marches were held across Spain, led by the country’s powerful unions, who warned of “social conflict” if Spain’s low salaries for the EU average did not rise in line with inflation. They also praised incentives to move Spain to a four-day working week to relieve the strain on workers.In South Korea, tens of thousands of people attended various rallies in its biggest May Day gatherings since the pandemic began in early 2020.In Tokyo, thousands of labor union members, opposition lawmakers and academics gathered at Yoyogi park, demanding wage increases to offset the impact of rising costs as their lives are still recovering from damage from the pandemic.They criticized Prime Minister Fumio Kishida’s plan to double the defense budget, and said the money should be spent on welfare, social security and improving people’s daily lives. Kishida has promised to focus on raising wages.In Indonesia, rally-goers demanded the government repeal a job creation law they argue would benefit business at the expense of workers and the environment.In Taiwan, thousands of workers took to the streets to protest what they call the inadequacies of the self-ruled island’s labor policies, putting pressure on the ruling party ahead of the 2024 presidential election.A protestor lights flare during a demonstration on May Day in Turin, Italy, on 2023-05-01T00:00:00.Marco Bertorello / AFP - Getty ImagesIn Lebanon, hundreds of Communist Party and trade syndicate members, as well as a group of migrant domestic workers, marched through the streets of downtown Beirut. The country is in the throes of a crippling economic crisis and spiraling inflation, with some three-quarters of the population now living in poverty.In North Korea, the country’s main Rodong Sinmun newspaper published a lengthy editorial urging workers to lend greater support to leader Kim Jong Un, fulfill their set production quotas and improve public livelihoods.Protests in Germany kicked off with a “Take Back the Night” rally organized by feminist and queer groups on the eve of May Day to protest against violence directed at women and LGBTQ+ people. Several thousand people took part in the march, which was largely peaceful despite occasional clashes between participants and police. Numerous further rallies by labor unions and left-wing groups are planned in Germany on Monday.\n"
     ]
    }
   ],
   "source": [
    "reformatted_text = find_and_reformat_dates(all_text)\n",
    "print(reformatted_text)"
   ]
  },
  {
   "cell_type": "code",
   "execution_count": 74,
   "metadata": {},
   "outputs": [],
   "source": [
    "import re\n",
    "from dateutil.parser import parse\n",
    "\n",
    "# Function to extract all dates in ISO format from a text\n",
    "def extract_iso_dates(all_text):\n",
    "    # Regular expression pattern to find ISO dates\n",
    "    iso_date_pattern = r'\\d{4}-\\d{2}-\\d{2}'\n",
    "\n",
    "    # Find all ISO date occurrences in the text\n",
    "    iso_dates_found = re.findall(iso_date_pattern, all_text)\n",
    "\n",
    "    return iso_dates_found\n"
   ]
  },
  {
   "cell_type": "code",
   "execution_count": 76,
   "metadata": {},
   "outputs": [
    {
     "name": "stdout",
     "output_type": "stream",
     "text": [
      "2023-05-01\n",
      "2023-05-01\n",
      "2023-05-01\n"
     ]
    }
   ],
   "source": [
    "iso_dates = extract_iso_dates(reformatted_text)\n",
    "\n",
    "for iso_date in iso_dates:\n",
    "    print(iso_date)\n"
   ]
  },
  {
   "cell_type": "code",
   "execution_count": 78,
   "metadata": {},
   "outputs": [
    {
     "name": "stdout",
     "output_type": "stream",
     "text": [
      "[('France', 'a higher retirement age', 'pushed the president to scrap'), ('France', 'to raise the retirement age', \"mobilized against President Emmanuel Macron's recent move\"), ('France', 'Laurent Berger', \"shows workers' hope to be treated differently\"), ('France', 'Paris', 'police detained 22 people'), ('France', 'Lyon', 'police dispersed protesters'), ('South Korea', 'higher wages', 'pleaded for'), ('Spain', 'days off', 'demanded the right to take'), ('Lebanon', 'a country plunged in economic crisis', 'marched in'), ('Paris', 'a Louis Vuitton museum', 'spraypainted'), ('Germany', 'violence targeting women and LGBTQ+ people', 'demonstrated against'), ('Pakistan', 'May Day events', 'forced indoors'), ('Turkey', 'May Day events', 'tinged with political tensions'), ('Turkey', \"reaching Istanbul's main square\", 'police prevented a group of demonstrators'), ('Turkey', 'pushed back or detained', 'journalists trying to film demonstrators'), ('Russia', 'May Day celebrations', 'overshadowed scaled-back events'), ('Asia', 'Covid-19 restrictions', 'unleashed pent-up frustration')]\n"
     ]
    }
   ],
   "source": [
    "from langchain.indexes import GraphIndexCreator\n",
    "from langchain.llms import OpenAI\n",
    "from langchain.chains import GraphQAChain\n",
    "\n",
    "# Initialize the GraphIndexCreator with OpenAI as the language model\n",
    "index_creator = GraphIndexCreator(llm=OpenAI(temperature=0))\n",
    "\n",
    "# Example news article text\n",
    "data = reformatted_text\n",
    "\n",
    "# Extract the knowledge graph from the text\n",
    "graph = index_creator.from_text(data)\n",
    "\n",
    "# Print the extracted triples (entities and relations)\n",
    "triples = graph.get_triples()\n",
    "print(triples)\n"
   ]
  },
  {
   "cell_type": "code",
   "execution_count": 79,
   "metadata": {},
   "outputs": [
    {
     "name": "stdout",
     "output_type": "stream",
     "text": [
      "\n",
      "\n",
      "\u001b[1m> Entering new GraphQAChain chain...\u001b[0m\n",
      "Entities Extracted:\n",
      "\u001b[32;1m\u001b[1;3m Paris, France\u001b[0m\n",
      "Full Context:\n",
      "\u001b[32;1m\u001b[1;3mParis spraypainted a Louis Vuitton museumFrance pushed the president to scrap a higher retirement age\n",
      "France mobilized against President Emmanuel Macron's recent move to raise the retirement age\n",
      "France shows workers' hope to be treated differently Laurent Berger\n",
      "France police detained 22 people Paris\n",
      "France police dispersed protesters Lyon\u001b[0m\n",
      "\n",
      "\u001b[1m> Finished chain.\u001b[0m\n"
     ]
    }
   ],
   "source": [
    "# Initialize the GraphQAChain with the knowledge graph\n",
    "chain = GraphQAChain.from_llm(OpenAI(temperature=0), graph=graph, verbose=True)\n",
    "\n",
    "# Query the knowledge graph\n",
    "answer = chain.run(\"What happened in Paris, France?\")\n",
    "#print(answer)"
   ]
  }
 ],
 "metadata": {
  "kernelspec": {
   "display_name": "Python 3",
   "language": "python",
   "name": "python3"
  },
  "language_info": {
   "codemirror_mode": {
    "name": "ipython",
    "version": 3
   },
   "file_extension": ".py",
   "mimetype": "text/x-python",
   "name": "python",
   "nbconvert_exporter": "python",
   "pygments_lexer": "ipython3",
   "version": "3.9.2"
  },
  "orig_nbformat": 4,
  "vscode": {
   "interpreter": {
    "hash": "916dbcbb3f70747c44a77c7bcd40155683ae19c65e1c03b4aa3499c5328201f1"
   }
  }
 },
 "nbformat": 4,
 "nbformat_minor": 2
}
